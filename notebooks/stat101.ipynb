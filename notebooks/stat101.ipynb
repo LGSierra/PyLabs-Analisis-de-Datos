{
 "cells": [
  {
   "cell_type": "markdown",
   "metadata": {},
   "source": [
    "### Algunas funciones para el curso de ESMA 3016\n",
    "###  Edgar Acuna"
   ]
  },
  {
   "cell_type": "code",
   "execution_count": 27,
   "metadata": {
    "collapsed": true
   },
   "outputs": [],
   "source": [
    "#Haciendo una funcion que haga la tabla completa de distribucion de frecuencias\n",
    "def tablafreq(datos,str):\n",
    "    \"\"\"\n",
    "    :param datos: Es el nombre de la base de datos\n",
    "    :param str: Es el nombre de la variable a usar de la base de datos.\n",
    "    \"\"\"\n",
    "    import pandas as pd\n",
    "    tab1=pd.crosstab(index=datos[str],columns=\"counts\",colnames=['variable'])\n",
    "    tab1['frec.relat.porc']=tab1*100/tab1.sum()\n",
    "    tab1['frec.acum']=tab1.counts.cumsum()\n",
    "    tab1['frec.relat.porc.acum']=tab1['frec.acum']*100/tab1['counts'].sum()\n",
    "    return tab1;"
   ]
  },
  {
   "cell_type": "code",
   "execution_count": 28,
   "metadata": {
    "collapsed": true
   },
   "outputs": [],
   "source": [
    "#Haciendo una funcion que haga la tabla completa de distribucion de frecuencias para datos agrupados\n",
    "def tablafreqag(datos,str,k):\n",
    "    \"\"\"\n",
    "    :param datos: Es el nombre de la base de datos\n",
    "    :param str: Es el nombre de la variable a usar de la base de datos.\n",
    "    :param k: Numero de intervalos\n",
    "    \"\"\"\n",
    "    import pandas as pd\n",
    "    m=min(datos[str])\n",
    "    M=max(datos[str])\n",
    "    ancho=(M-m)/k\n",
    "    var1=np.array(datos[str])\n",
    "    cortes1=np.linspace(m,M,num=k+1)\n",
    "    a, b=pd.cut(var1,bins=cortes1,include_lowest=True, right=True, retbins=True)\n",
    "    tablag=pd.crosstab(a,columns='counts')\n",
    "    tablag['frec.relat.porc']=tablag*100/tablag.sum()\n",
    "    tablag['frec.acum']=tablag.counts.cumsum()\n",
    "    tablag['frec.relat.porc.acum']=tablag['frec.acum']*100/tablag['counts'].sum()\n",
    "    tablag.round(3)\n",
    "    return tablag;"
   ]
  },
  {
   "cell_type": "code",
   "execution_count": 29,
   "metadata": {
    "collapsed": true
   },
   "outputs": [],
   "source": [
    "def IC_media(data, sigma, confianza=0.95):\n",
    "    # Esta es una funcion que hace el intervalo de confianza para la media poblacional\n",
    "    \"\"\"\n",
    "    :param data: Es el nombre de la base de datos\n",
    "    :param sigma: Es el valor asumido de la desviacion estandar poblacional\n",
    "    :param confianza: El el nivel de confianza del intervalo. debe ser un numero cercano a1.\n",
    "    \"\"\"\n",
    "    import numpy as np\n",
    "    from scipy.stats  import norm,t\n",
    "    from math import sqrt,factorial,pi   \n",
    "    a = 1.0*np.array(data)\n",
    "    n = len(a)\n",
    "    m, se = np.mean(a), sigma/sqrt(n)\n",
    "    h = se * norm.ppf((1+confianza)/2)\n",
    "    print \"El intervalo de confianza es:\", m-h, m+h\n",
    "    return"
   ]
  },
  {
   "cell_type": "code",
   "execution_count": 30,
   "metadata": {
    "collapsed": true
   },
   "outputs": [],
   "source": [
    "def ztest(data,mu_0,sigma,alternativa=\"no igual a\"):\n",
    "    # Haciendo una funcion que halle p-value de la prueba estadistica de Z par la media poblalcional\n",
    "    \"\"\"\n",
    "    :param data: Es el nombre de la base de datos\n",
    "    :param mu_0: Valor asumiedo de la media poblacional en la hipotesis nula \n",
    "    :param sigma: Es el valor asumido de la desviacion estandar poblacional\n",
    "    :param confianza: El el nivel de confianza del intervalo. debe ser un numero cercano a1.\n",
    "    \"\"\"\n",
    "    import numpy as np\n",
    "    from scipy.stats  import norm,t\n",
    "    from math import sqrt,factorial,pi\n",
    "    #Esta funcion calcula el p-value de la prueba z\n",
    "    a = 1.0*np.array(data)\n",
    "    n = len(a)\n",
    "    m, se = np.mean(a), sigma/sqrt(n)\n",
    "    print \"media\",m\n",
    "    test=(m-mu_0)/se\n",
    "    if alternativa==\"mayor que\":\n",
    "        p_value=1-norm.cdf(test)\n",
    "    elif alternativa==\"menor que\":\n",
    "        p_value=norm.cdf(test)\n",
    "    else:\n",
    "        p_value=2*(1-norm.cdf(abs(test)))\n",
    "    print \"El p-value es:\", p_value    \n",
    "    return"
   ]
  },
  {
   "cell_type": "code",
   "execution_count": 31,
   "metadata": {},
   "outputs": [],
   "source": [
    "def boot_IC_perc(data,nboot,level):\n",
    "    #IC por bootstrapping metodo de percentiles\n",
    "    \"\"\"\n",
    "    :param data: Es el nombre de la base de datos\n",
    "    :param nboot: Es el numero de muestras bootstrap \n",
    "    :param level: Es el nivel de confianza y esta dado en porcentaje\n",
    "    \"\"\"\n",
    "    nd=len(data)\n",
    "    b=[np.random.choice(data,nd).mean() for _ in range(nboot)] \n",
    "    liminf=np.percentile(b,(100-level)/2.0)\n",
    "    limsup=np.percentile(b,(100+level)/2.0)\n",
    "    return liminf,limsup"
   ]
  },
  {
   "cell_type": "code",
   "execution_count": 32,
   "metadata": {},
   "outputs": [],
   "source": [
    "def stderror_boot(data,nboot,estimado=\"mean\"):\n",
    "    #Esta funcion calcula el error estándar para la media y la mediana\n",
    "    # usando Bootsrapping con un numero de muestras igual a nboot. \n",
    "    \"\"\"\n",
    "    :param data: Es el nombre de la base de datos\n",
    "    :param nboot: Es el numero de muestras bootstrap\n",
    "    :param estimado: \"mean\" o \"median\"\n",
    "    \"\"\"\n",
    "    nd=len(data) \n",
    "    if estimado==\"mean\":\n",
    "        b=[np.random.choice(data,nd).mean() for _ in range(nboot)] \n",
    "    else:\n",
    "        b=[np.median(np.random.choice(data,nd)) for _ in range(nboot)] \n",
    "    return np.std(b,ddof=1)"
   ]
  },
  {
   "cell_type": "code",
   "execution_count": 33,
   "metadata": {},
   "outputs": [],
   "source": [
    "def boot_ICt(data,nboot,level):\n",
    "    #calcula un intervalo de confianza para la media poblacional cuando la muestra x es pequeña \n",
    "    #nboot=numero de muestras bootstrap \n",
    "    \"\"\"\n",
    "    :param data: Es el nombre de la base de datos\n",
    "    :param nboot: Es el numero de muestras bootstrap\n",
    "    :param level: El el nivel de confianza del intervalo, debe estar dado en procentaje.\n",
    "    \"\"\"\n",
    "    import math as m\n",
    "    #level=Nivel de confianza en porcentaje \n",
    "    nd=len(data)\n",
    "    xmean = np.mean(data) \n",
    "    se=np.std(data,ddof=1)/m.sqrt(nd) \n",
    "    bt=[(np.mean(np.random.choice(data,nd))-xmean)*m.sqrt(nd)/np.std(np.random.choice(data,nd)) for _ in range(nboot)] \n",
    "    error1 = np.percentile(bt, (100-level)/2.0) * se\n",
    "    error2 = np.percentile(bt, (100+level)/2.0) * se\n",
    "    limsup=xmean+error2\n",
    "    liminf=xmean+error1 \n",
    "    return liminf, limsup"
   ]
  }
 ],
 "metadata": {
  "kernelspec": {
   "display_name": "Python 2",
   "language": "python",
   "name": "python2"
  },
  "language_info": {
   "codemirror_mode": {
    "name": "ipython",
    "version": 2
   },
   "file_extension": ".py",
   "mimetype": "text/x-python",
   "name": "python",
   "nbconvert_exporter": "python",
   "pygments_lexer": "ipython2",
   "version": "2.7.13"
  }
 },
 "nbformat": 4,
 "nbformat_minor": 2
}
