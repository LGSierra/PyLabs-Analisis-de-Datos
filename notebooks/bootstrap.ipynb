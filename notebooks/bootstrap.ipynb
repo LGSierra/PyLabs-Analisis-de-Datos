{
 "cells": [
  {
   "cell_type": "markdown",
   "metadata": {},
   "source": [
    "### ESMA 3016\n",
    "### Boostrapping\n",
    "### Edgar Acuna"
   ]
  },
  {
   "cell_type": "code",
   "execution_count": 84,
   "metadata": {
    "collapsed": true
   },
   "outputs": [],
   "source": [
    "import numpy as np\n",
    "import random as rd\n",
    "import matplotlib.pyplot as plt"
   ]
  },
  {
   "cell_type": "code",
   "execution_count": 85,
   "metadata": {},
   "outputs": [
    {
     "data": {
      "text/plain": [
       "[28, 15, 17, 33, 12, 45, 23, 9]"
      ]
     },
     "execution_count": 85,
     "metadata": {},
     "output_type": "execute_result"
    }
   ],
   "source": [
    "# Definiendo la poblacion \n",
    "x=[9,12,23,45,17,28,15,33]\n",
    "# muestra de tamaño 8 SIN reemplazo \n",
    "rd.sample(x,8)"
   ]
  },
  {
   "cell_type": "code",
   "execution_count": 86,
   "metadata": {},
   "outputs": [
    {
     "data": {
      "text/plain": [
       "array([ 9, 12, 45, 33, 17, 23, 15, 28])"
      ]
     },
     "execution_count": 86,
     "metadata": {},
     "output_type": "execute_result"
    }
   ],
   "source": [
    "#Otra manera: muestra de tamaño 8 SIN reemplazo\n",
    "np.random.choice(x,8,replace=False)"
   ]
  },
  {
   "cell_type": "markdown",
   "metadata": {},
   "source": [
    "### Muestra Bootstrap"
   ]
  },
  {
   "cell_type": "code",
   "execution_count": 87,
   "metadata": {},
   "outputs": [
    {
     "data": {
      "text/plain": [
       "array([28, 45, 12, 12, 23, 12, 15, 23])"
      ]
     },
     "execution_count": 87,
     "metadata": {},
     "output_type": "execute_result"
    }
   ],
   "source": [
    "#muestra de tamaño 8 CON reemplazo\n",
    "np.random.choice(x,8)"
   ]
  },
  {
   "cell_type": "markdown",
   "metadata": {},
   "source": [
    "###  Comparacion la distribucion Emprica con la distrbucion acumulada teorica"
   ]
  },
  {
   "cell_type": "code",
   "execution_count": 101,
   "metadata": {},
   "outputs": [
    {
     "data": {
      "image/png": "[encoded data removed]",
      "text/plain": [
       "<matplotlib.figure.Figure at 0xdb62400>"
      ]
     },
     "metadata": {},
     "output_type": "display_data"
    }
   ],
   "source": [
    "import numpy as np\n",
    "from scipy.stats import norm \n",
    "import statsmodels.api as sm # recommended import according to the docs\n",
    "import matplotlib.pyplot as plt\n",
    "#Simulando una muestra de una normal de tamano n=60\n",
    "sample = norm.rvs(0, 1, 60)\n",
    "ecdf = sm.distributions.ECDF(sample)\n",
    "x = np.linspace(min(sample), max(sample))\n",
    "y = ecdf(x)\n",
    "z=sorted(sample)\n",
    "fig, ax = plt.subplots(1, 1)\n",
    "plt.step(x, y,label=\"Empirica Acumulada\")\n",
    "ax.plot(z, norm.cdf(z), 'k-', lw=1, color='r',label='Normal acumulada')\n",
    "ax.legend(loc='best', frameon=False)\n",
    "plt.show()"
   ]
  },
  {
   "cell_type": "code",
   "execution_count": 102,
   "metadata": {},
   "outputs": [],
   "source": [
    "#Obteniendo las medias de 10 muestras bootstrap de los datos coles\n",
    "coles=[233, 259, 215, 322, 289, 220, 276, 299] \n",
    "b=[np.random.choice(coles,8).mean() for _ in range(10)] "
   ]
  },
  {
   "cell_type": "code",
   "execution_count": 90,
   "metadata": {},
   "outputs": [
    {
     "name": "stdout",
     "output_type": "stream",
     "text": [
      "[220.0, 248.0, 276.0, 220.0, 267.5, 294.0, 282.5, 220.0, 282.5, 259.0]\n"
     ]
    }
   ],
   "source": [
    "print b"
   ]
  },
  {
   "cell_type": "markdown",
   "metadata": {},
   "source": [
    "### Estimacion del Intervalo de Confianza usando Bootstrapping por el metodo de percentiles"
   ]
  },
  {
   "cell_type": "code",
   "execution_count": 103,
   "metadata": {
    "collapsed": true
   },
   "outputs": [],
   "source": [
    "def boot_IC_perc(data,nboot,level):\n",
    "    nd=len(data)\n",
    "    b=[np.random.choice(data,nd).mean() for _ in range(nboot)] \n",
    "    liminf=np.percentile(b,(100-level)/2.0)\n",
    "    limsup=np.percentile(b,(100+level)/2.0)\n",
    "    return liminf,limsup"
   ]
  },
  {
   "cell_type": "code",
   "execution_count": 104,
   "metadata": {},
   "outputs": [
    {
     "data": {
      "text/plain": [
       "(239.375, 289.26562499999994)"
      ]
     },
     "execution_count": 104,
     "metadata": {},
     "output_type": "execute_result"
    }
   ],
   "source": [
    "boot_IC_perc(coles,1000,95)"
   ]
  },
  {
   "cell_type": "markdown",
   "metadata": {},
   "source": [
    "### Estimacion del error estandar de la Media y Mediana usando Bootstrapping"
   ]
  },
  {
   "cell_type": "code",
   "execution_count": 95,
   "metadata": {
    "collapsed": true
   },
   "outputs": [],
   "source": [
    "def stderror_boot(data,nboot,estimado=\"mean\"):\n",
    "    #Esta funcion calcula el error estándar para la media y la mediana\n",
    "    # usando Bootsrapping con un numero de muestras igual a nboot. \n",
    "    nd=len(data) \n",
    "    if estimado==\"mean\":\n",
    "        b=[np.random.choice(data,nd).mean() for _ in range(nboot)] \n",
    "    else:\n",
    "        b=[np.median(np.random.choice(data,nd)) for _ in range(nboot)] \n",
    "    return np.std(b,ddof=1)"
   ]
  },
  {
   "cell_type": "code",
   "execution_count": 96,
   "metadata": {},
   "outputs": [
    {
     "data": {
      "text/plain": [
       "13.170314845539215"
      ]
     },
     "execution_count": 96,
     "metadata": {},
     "output_type": "execute_result"
    }
   ],
   "source": [
    "stderror_boot(coles,1000,\"mean\")"
   ]
  },
  {
   "cell_type": "code",
   "execution_count": 97,
   "metadata": {},
   "outputs": [
    {
     "data": {
      "text/plain": [
       "20.915537991633862"
      ]
     },
     "execution_count": 97,
     "metadata": {},
     "output_type": "execute_result"
    }
   ],
   "source": [
    "stderror_boot(coles,1000,estimado=\"median\")"
   ]
  },
  {
   "cell_type": "markdown",
   "metadata": {},
   "source": [
    "### Estimando el Intervalo de confianza por el metodo de Boostrapping esttudentizado"
   ]
  },
  {
   "cell_type": "code",
   "execution_count": 98,
   "metadata": {},
   "outputs": [],
   "source": [
    "def boot_ICt(data,nboot,level):\n",
    "    #calcula un intervalo de confianza para la media poblacional cuando la muestra x es pequeña \n",
    "    #nboot=numero de muestras bootstrap \n",
    "    import math as m\n",
    "    #level=Nivel de confianza en porcentaje \n",
    "    nd=len(data)\n",
    "    xmean = np.mean(data) \n",
    "    se=np.std(data,ddof=1)/m.sqrt(nd) \n",
    "    bt=[(np.mean(np.random.choice(data,nd))-xmean)*m.sqrt(nd)/np.std(np.random.choice(data,nd)) for _ in range(nboot)] \n",
    "    error1 = np.percentile(bt, (100-level)/2.0) * se\n",
    "    error2 = np.percentile(bt, (100+level)/2.0) * se\n",
    "    limsup=xmean+error2\n",
    "    liminf=xmean+error1 \n",
    "    return liminf, limsup"
   ]
  },
  {
   "cell_type": "code",
   "execution_count": 99,
   "metadata": {},
   "outputs": [
    {
     "data": {
      "text/plain": [
       "(228.02464996311843, 295.18541303810525)"
      ]
     },
     "execution_count": 99,
     "metadata": {},
     "output_type": "execute_result"
    }
   ],
   "source": [
    "boot_ICt(coles,10,95)"
   ]
  }
 ],
 "metadata": {
  "kernelspec": {
   "display_name": "Python 2",
   "language": "python",
   "name": "python2"
  },
  "language_info": {
   "codemirror_mode": {
    "name": "ipython",
    "version": 2
   },
   "file_extension": ".py",
   "mimetype": "text/x-python",
   "name": "python",
   "nbconvert_exporter": "python",
   "pygments_lexer": "ipython2",
   "version": "2.7.13"
  }
 },
 "nbformat": 4,
 "nbformat_minor": 2
}
