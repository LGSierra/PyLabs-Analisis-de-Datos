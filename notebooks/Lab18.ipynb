{
 "cells": [
  {
   "cell_type": "markdown",
   "metadata": {},
   "source": [
    "### ESMA 3016\n",
    "### Edgar Acuna\n",
    "### Lab18: Distribucion de la Media Muestral y el Teorema del Limte Central"
   ]
  },
  {
   "cell_type": "code",
   "execution_count": 2,
   "metadata": {
    "collapsed": true
   },
   "outputs": [],
   "source": [
    "from scipy.stats  import binom,expon,norm\n",
    "import numpy as np\n",
    "import matplotlib.pyplot as plt\n",
    "from math import sqrt,factorial,pi\n",
    "%matplotlib inline"
   ]
  },
  {
   "cell_type": "code",
   "execution_count": 11,
   "metadata": {
    "collapsed": true,
    "scrolled": false
   },
   "outputs": [],
   "source": [
    "#Distribucion de medias muestrales de una exponencial\n",
    "#Generacion de 1000 muestras de tamano 10 de una exponencial con theta=3\n",
    "#este exponencial tiene media igual a theta=3 , varianza=theta^2=9, desv.est=3\n",
    "muestras1=expon.rvs(scale=3,size=10000)\n",
    "a=muestras1.reshape(10,-1)"
   ]
  },
  {
   "cell_type": "code",
   "execution_count": 12,
   "metadata": {
    "scrolled": true
   },
   "outputs": [
    {
     "data": {
      "text/plain": [
       "(array([  19.,  158.,  299.,  263.,  158.,   68.,   19.,    9.,    3.,    4.]),\n",
       " array([ 0.74468245,  1.43323081,  2.12177917,  2.81032753,  3.49887589,\n",
       "         4.18742425,  4.87597261,  5.56452097,  6.25306933,  6.94161769,\n",
       "         7.63016605]),\n",
       " <a list of 10 Patch objects>)"
      ]
     },
     "execution_count": 12,
     "metadata": {},
     "output_type": "execute_result"
    },
    {
     "data": {
      "image/png": "[encoded data removed]",
      "text/plain": [
       "<matplotlib.figure.Figure at 0xc64f4e0>"
      ]
     },
     "metadata": {},
     "output_type": "display_data"
    }
   ],
   "source": [
    "#Calculando las medias de cada una de las 1000 muestras\n",
    "medias1=a.mean(axis=0)\n",
    "plt.hist(medias1)"
   ]
  },
  {
   "cell_type": "code",
   "execution_count": 5,
   "metadata": {
    "scrolled": true
   },
   "outputs": [
    {
     "data": {
      "text/plain": [
       "(array([   9.,   98.,  198.,  271.,  216.,  133.,   51.,   19.,    4.,    1.]),\n",
       " array([ 1.26692893,  1.720024  ,  2.17311906,  2.62621412,  3.07930919,\n",
       "         3.53240425,  3.98549931,  4.43859438,  4.89168944,  5.34478451,\n",
       "         5.79787957]),\n",
       " <a list of 10 Patch objects>)"
      ]
     },
     "execution_count": 5,
     "metadata": {},
     "output_type": "execute_result"
    },
    {
     "data": {
      "image/png": "[encoded data removed]",
      "text/plain": [
       "<matplotlib.figure.Figure at 0xbea8a20>"
      ]
     },
     "metadata": {},
     "output_type": "display_data"
    }
   ],
   "source": [
    "#Generacion de 1000 muestras de tamano 20 de una exponencial con theta=3\n",
    "muestras2=expon.rvs(scale=3,size=20000)\n",
    "a=muestras2.reshape(20,-1)\n",
    "#Calculando las medias de cada una de las 1000 muestras\n",
    "medias2=a.mean(axis=0)\n",
    "plt.hist(medias2)"
   ]
  },
  {
   "cell_type": "code",
   "execution_count": 6,
   "metadata": {
    "scrolled": true
   },
   "outputs": [
    {
     "data": {
      "text/plain": [
       "(array([  12.,   58.,  140.,  273.,  242.,  150.,   74.,   39.,    9.,    3.]),\n",
       " array([ 1.83702441,  2.11361082,  2.39019724,  2.66678365,  2.94337006,\n",
       "         3.21995648,  3.49654289,  3.7731293 ,  4.04971572,  4.32630213,\n",
       "         4.60288854]),\n",
       " <a list of 10 Patch objects>)"
      ]
     },
     "execution_count": 6,
     "metadata": {},
     "output_type": "execute_result"
    },
    {
     "data": {
      "image/png": "[encoded data removed]",
      "text/plain": [
       "<matplotlib.figure.Figure at 0xc1a50f0>"
      ]
     },
     "metadata": {},
     "output_type": "display_data"
    }
   ],
   "source": [
    "#Generacion de 1000 muestras de tamano 50 de una exponencial con theta=3\n",
    "muestras3=expon.rvs(scale=3,size=50000)\n",
    "a=muestras3.reshape(50,-1)\n",
    "#Calculando las medias de cada una de las 1000 muestras\n",
    "medias3=a.mean(axis=0)\n",
    "plt.hist(medias3)"
   ]
  },
  {
   "cell_type": "code",
   "execution_count": 7,
   "metadata": {
    "scrolled": true
   },
   "outputs": [
    {
     "data": {
      "text/plain": [
       "(array([  28.,   86.,  160.,  238.,  214.,  156.,   85.,   26.,    6.,    1.]),\n",
       " array([ 2.25768341,  2.44482409,  2.63196477,  2.81910545,  3.00624614,\n",
       "         3.19338682,  3.3805275 ,  3.56766818,  3.75480886,  3.94194954,\n",
       "         4.12909023]),\n",
       " <a list of 10 Patch objects>)"
      ]
     },
     "execution_count": 7,
     "metadata": {},
     "output_type": "execute_result"
    },
    {
     "data": {
      "image/png": "[encoded data removed]",
      "text/plain": [
       "<matplotlib.figure.Figure at 0xc480470>"
      ]
     },
     "metadata": {},
     "output_type": "display_data"
    }
   ],
   "source": [
    "#Generacion de 1000 muestras de tamano 100 de una exponencial con theta=3\n",
    "muestras4=expon.rvs(scale=3,size=100000)\n",
    "a=muestras4.reshape(100,-1)\n",
    "#Calculando las medias de cada una de las 1000 muestras\n",
    "medias4=a.mean(axis=0)\n",
    "plt.hist(medias4)"
   ]
  },
  {
   "cell_type": "code",
   "execution_count": 8,
   "metadata": {},
   "outputs": [
    {
     "data": {
      "text/plain": [
       "3.0091992584217571"
      ]
     },
     "execution_count": 8,
     "metadata": {},
     "output_type": "execute_result"
    }
   ],
   "source": [
    "#Calculando la media de las medias\n",
    "np.mean(medias4)"
   ]
  },
  {
   "cell_type": "markdown",
   "metadata": {},
   "source": [
    "Notar que la media de las medias esta cerca de $\\mu=3$"
   ]
  },
  {
   "cell_type": "code",
   "execution_count": 9,
   "metadata": {},
   "outputs": [
    {
     "data": {
      "text/plain": [
       "0.3062916967843381"
      ]
     },
     "execution_count": 9,
     "metadata": {},
     "output_type": "execute_result"
    }
   ],
   "source": [
    "#Calculando la desviacion estandar de las muestras\n",
    "np.std(medias4)"
   ]
  },
  {
   "cell_type": "markdown",
   "metadata": {},
   "source": [
    "Notar que la desviacion estandar de las medias esta cerca a $\\frac{3}{\\sqrt{100}}=.3$"
   ]
  },
  {
   "cell_type": "markdown",
   "metadata": {},
   "source": [
    "Conclusion: La distribucion de la media muestral extraidos de una distribcion exponencial con parametro $\\lambda=3$ se \n",
    "    aproxima a una Normal con media  $\\lambda$  y desviacion estandar $\\frac {\\lambda}{\\sqrt{n}}$ "
   ]
  },
  {
   "cell_type": "markdown",
   "metadata": {},
   "source": [
    "#### Teorema del Limite Central: De Moivre(1738), Laplace(1812), Liapunov(1902)\n",
    "La media de muestras aleatorias de tamano n extraida de una distribucion que tiene media $\\mu$\n",
    "y varianza $\\sigma^2$ se distribuyen aproximadamente en forma normal con media $\\mu$  y varianza $\\sigma^2/n$\n",
    "\n",
    "#### Ejemplo: \n",
    "La Poisson tiene media  y varianza igual a $\\lambda$. Entonces la media de muestras de tamano\n",
    " n se distribuiran aproximadamente con media $\\lambda$ y varianza $\\lambda/n$.  "
   ]
  },
  {
   "cell_type": "code",
   "execution_count": null,
   "metadata": {
    "collapsed": true
   },
   "outputs": [],
   "source": []
  }
 ],
 "metadata": {
  "kernelspec": {
   "display_name": "Python 2",
   "language": "python",
   "name": "python2"
  },
  "language_info": {
   "codemirror_mode": {
    "name": "ipython",
    "version": 2
   },
   "file_extension": ".py",
   "mimetype": "text/x-python",
   "name": "python",
   "nbconvert_exporter": "python",
   "pygments_lexer": "ipython2",
   "version": "2.7.13"
  }
 },
 "nbformat": 4,
 "nbformat_minor": 2
}
