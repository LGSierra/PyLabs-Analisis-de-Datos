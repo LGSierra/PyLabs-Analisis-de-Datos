{
 "cells": [
  {
   "cell_type": "markdown",
   "metadata": {},
   "source": [
    "## ESMA 3016\n",
    "### Edgar Acuna\n",
    "### Calculo de Probabilidades usando simulacion\n",
    "Uso de las librerias numpy, pandas y random"
   ]
  },
  {
   "cell_type": "code",
   "execution_count": 20,
   "metadata": {
    "collapsed": true
   },
   "outputs": [],
   "source": [
    "import numpy as np\n",
    "import pandas as pd\n",
    "import random as rd"
   ]
  },
  {
   "cell_type": "code",
   "execution_count": 21,
   "metadata": {},
   "outputs": [
    {
     "data": {
      "text/plain": [
       "0.07497475954798738"
      ]
     },
     "execution_count": 21,
     "metadata": {},
     "output_type": "execute_result"
    }
   ],
   "source": [
    "#Seleccionando al azar un numero entre 0 y 1\n",
    "rd.random()"
   ]
  },
  {
   "cell_type": "code",
   "execution_count": 22,
   "metadata": {},
   "outputs": [
    {
     "data": {
      "text/plain": [
       "[65, 99, 25, 84, 24, 47, 18, 74, 20, 16]"
      ]
     },
     "execution_count": 22,
     "metadata": {},
     "output_type": "execute_result"
    }
   ],
   "source": [
    "#Seleccionando al azar una muestra de tamano 10 entre los numeros del 0 a 99\n",
    "rd.sample(range(0,100),10)"
   ]
  },
  {
   "cell_type": "code",
   "execution_count": 23,
   "metadata": {
    "collapsed": true
   },
   "outputs": [],
   "source": [
    "#Prob1. Juan y Luis toman un ascensor en el estacionamiento de\n",
    "#un edificio que tiene 6 pisos. Si ellos se bajan al azar en alguno\n",
    "# de los pisos (el del estacionamiento es piso CERO),.\n",
    "#Estimar la probabilidad de que ellos se bajen en pisos distintos. \n",
    "#La solucion exacta es 30/36=5/6=.8333"
   ]
  },
  {
   "cell_type": "code",
   "execution_count": 24,
   "metadata": {},
   "outputs": [
    {
     "data": {
      "text/plain": [
       "array([1, 1, 4, 3, 4, 6, 1, 1, 6, 1, 5, 1, 4, 3, 6, 4, 5, 6, 5, 6, 1, 3, 4,\n",
       "       4, 3, 2, 4, 5, 1, 6, 6, 3, 6, 3, 6, 3, 1, 1, 1, 6, 6, 3, 2, 2, 6, 3,\n",
       "       6, 6, 4, 2, 6, 2, 4, 4, 5, 3, 3, 6, 6, 1, 2, 3, 1, 6, 5, 5, 4, 5, 5,\n",
       "       6, 2, 2, 3, 1, 1, 4, 4, 4, 2, 2, 1, 3, 4, 1, 4, 3, 3, 6, 3, 4, 3, 4,\n",
       "       6, 3, 3, 3, 3, 5, 3, 3])"
      ]
     },
     "execution_count": 24,
     "metadata": {},
     "output_type": "execute_result"
    }
   ],
   "source": [
    "#Simulando 100 veces el piso en que se baja Juan\n",
    "juan=np.random.choice(range(1,7),100)\n",
    "juan"
   ]
  },
  {
   "cell_type": "code",
   "execution_count": 25,
   "metadata": {
    "collapsed": true
   },
   "outputs": [],
   "source": [
    "#Simulando 100 veces el piso en que se baja Luis\n",
    "luis=np.random.choice(range(1,7),100)"
   ]
  },
  {
   "cell_type": "code",
   "execution_count": 26,
   "metadata": {},
   "outputs": [
    {
     "data": {
      "text/plain": [
       "85"
      ]
     },
     "execution_count": 26,
     "metadata": {},
     "output_type": "execute_result"
    }
   ],
   "source": [
    "#Encontrando la cantidad de veces que ellos se bajana en distinto piso\n",
    "np.sum(juan!=luis)"
   ]
  },
  {
   "cell_type": "code",
   "execution_count": 27,
   "metadata": {
    "collapsed": true
   },
   "outputs": [],
   "source": [
    "#Haciendo una funcion que estime la probabilidad del evento basado en k simulaciones\n",
    "def prob_est1(k):\n",
    "    juan=np.random.choice(range(1,7),k)\n",
    "    luis=np.random.choice(range(1,7),k)\n",
    "    return np.sum(juan!=luis)/float(k)"
   ]
  },
  {
   "cell_type": "code",
   "execution_count": 28,
   "metadata": {},
   "outputs": [
    {
     "data": {
      "text/plain": [
       "0.82399999999999995"
      ]
     },
     "execution_count": 28,
     "metadata": {},
     "output_type": "execute_result"
    }
   ],
   "source": [
    "#Estimando la probabilidad, simulando 1000 experimentos\n",
    "prob_est1(1000)"
   ]
  },
  {
   "cell_type": "code",
   "execution_count": 29,
   "metadata": {},
   "outputs": [
    {
     "data": {
      "text/plain": [
       "0.83243999999999996"
      ]
     },
     "execution_count": 29,
     "metadata": {},
     "output_type": "execute_result"
    }
   ],
   "source": [
    "#Estimando la probabilidad, simulando 100000 experimentos\n",
    "prob_est1(100000)"
   ]
  },
  {
   "cell_type": "code",
   "execution_count": 30,
   "metadata": {
    "collapsed": true
   },
   "outputs": [],
   "source": [
    "#Prob 2. Se extraen tres bolas con REEMPLAZO de una caja que tiene 10 bolas \n",
    "#numeradas del 1 al 10\n",
    "#Cual es la probabilidad de que el mayor de los tres numeros extraidos sea 6.\n",
    "#La contestacion exacta es 91/1000=.091."
   ]
  },
  {
   "cell_type": "code",
   "execution_count": 31,
   "metadata": {
    "collapsed": true
   },
   "outputs": [],
   "source": [
    "#Eligiendo las tres bolas al azar 10000 veces\n",
    "b1=np.random.choice(range(1,11),10000)\n",
    "b2=np.random.choice(range(1,11),10000)\n",
    "b3=np.random.choice(range(1,11),10000)"
   ]
  },
  {
   "cell_type": "code",
   "execution_count": 32,
   "metadata": {
    "collapsed": true
   },
   "outputs": [],
   "source": [
    "#Formando un data frame de los resultados\n",
    "data=[b1,b2,b3]\n",
    "df=pd.DataFrame(data,index=['b1','b2','b3'])\n",
    "#hallando el maximo de cada fila\n",
    "m=df.max(axis=0)"
   ]
  },
  {
   "cell_type": "code",
   "execution_count": 33,
   "metadata": {},
   "outputs": [
    {
     "data": {
      "text/plain": [
       "919"
      ]
     },
     "execution_count": 33,
     "metadata": {},
     "output_type": "execute_result"
    }
   ],
   "source": [
    "#Contando cuando de estos maximos son 6\n",
    "(m==6).sum()"
   ]
  },
  {
   "cell_type": "code",
   "execution_count": 34,
   "metadata": {
    "collapsed": true
   },
   "outputs": [],
   "source": [
    "#Haciendo una funcion para estimar la probabilidad de que el mayo valor extraido sea\n",
    "#igual aun valor dado usando k simulaciones\n",
    "def prob_est2(valor,k):\n",
    "    import numpy as np\n",
    "    import pandas as pd\n",
    "    b1=np.random.choice(range(1,11),k)\n",
    "    b2=np.random.choice(range(1,11),k)\n",
    "    b3=np.random.choice(range(1,11),k)\n",
    "    data=[b1,b2,b3]\n",
    "    df=pd.DataFrame(data,index=['b1','b2','b3'])\n",
    "    m=df.max(axis=0)\n",
    "    return (m==valor).sum()/float(k)"
   ]
  },
  {
   "cell_type": "code",
   "execution_count": 35,
   "metadata": {},
   "outputs": [
    {
     "data": {
      "text/plain": [
       "0.12"
      ]
     },
     "execution_count": 35,
     "metadata": {},
     "output_type": "execute_result"
    }
   ],
   "source": [
    "#estimando la probabilidad con 100 simulaciones\n",
    "prob_est2(6,100)"
   ]
  },
  {
   "cell_type": "code",
   "execution_count": 36,
   "metadata": {},
   "outputs": [
    {
     "data": {
      "text/plain": [
       "0.075999999999999998"
      ]
     },
     "execution_count": 36,
     "metadata": {},
     "output_type": "execute_result"
    }
   ],
   "source": [
    "#estimando la probabilidad con 1,000 simulaciones\n",
    "prob_est2(6,1000)"
   ]
  },
  {
   "cell_type": "code",
   "execution_count": 37,
   "metadata": {
    "scrolled": true
   },
   "outputs": [
    {
     "data": {
      "text/plain": [
       "0.093200000000000005"
      ]
     },
     "execution_count": 37,
     "metadata": {},
     "output_type": "execute_result"
    }
   ],
   "source": [
    "#estimando la probabilidad con 10,000 simulaciones\n",
    "prob_est2(6,10000)"
   ]
  },
  {
   "cell_type": "code",
   "execution_count": null,
   "metadata": {
    "collapsed": true
   },
   "outputs": [],
   "source": []
  }
 ],
 "metadata": {
  "kernelspec": {
   "display_name": "Python 2",
   "language": "python",
   "name": "python2"
  },
  "language_info": {
   "codemirror_mode": {
    "name": "ipython",
    "version": 2
   },
   "file_extension": ".py",
   "mimetype": "text/x-python",
   "name": "python",
   "nbconvert_exporter": "python",
   "pygments_lexer": "ipython2",
   "version": "2.7.13"
  }
 },
 "nbformat": 4,
 "nbformat_minor": 2
}
