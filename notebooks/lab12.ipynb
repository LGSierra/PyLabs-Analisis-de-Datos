{
 "cells": [
  {
   "cell_type": "markdown",
   "metadata": {
    "collapsed": true,
    "slideshow": {
     "slide_type": "slide"
    }
   },
   "source": [
    "## ESMA 3016\n",
    "## Edgar Acuna\n",
    "### Lab12: Distribuciones hipergeometrica, geometrica y binomial Negativa"
   ]
  },
  {
   "cell_type": "code",
   "execution_count": 2,
   "metadata": {
    "collapsed": true,
    "slideshow": {
     "slide_type": "slide"
    }
   },
   "outputs": [],
   "source": [
    "from scipy.stats import hypergeom,geom,nbinom\n",
    "from scipy import special\n",
    "import numpy as np\n",
    "import matplotlib.pyplot as plt\n",
    "%matplotlib inline"
   ]
  },
  {
   "cell_type": "markdown",
   "metadata": {
    "slideshow": {
     "slide_type": "slide"
    }
   },
   "source": [
    "### Distribucion Hipergeometrica\n",
    "\n",
    "### $$P[X=i]=\\frac {{m\\choose i}{n\\choose {k-i}}}{{m+n}\\choose k},$$\n",
    "\n",
    "#### para $i=max(0,k-n),.......min(k,m)$"
   ]
  },
  {
   "cell_type": "markdown",
   "metadata": {
    "slideshow": {
     "slide_type": "slide"
    }
   },
   "source": [
    "Ejemplo1: De un lote de 10 articulos de los cuales 6 son de buenos y 4 danados se extraen al azar y Sin Reposicion\n",
    "5 de ellos.\n",
    "\n",
    "a)Cual es la probabilidad de que hayan  exactamente 3 danados entre los extraidos?\n",
    "\n",
    "b)Cual es la probabilidad de que A LO Mas 2 sean 2 danados? \n",
    "\n",
    "c)Cual es la probabilidad de que haya al menos un danado entre los 5 extraidos?\n"
   ]
  },
  {
   "cell_type": "markdown",
   "metadata": {
    "slideshow": {
     "slide_type": "subslide"
    }
   },
   "source": [
    " Sol: Sea X: Número de articulos danados (exito) en la muestra de 5. X es una hipergeometrica com M=10 (tamano de la poblacion), \n",
    " n=4 (elementos del tipo I en la poblacion) y k=5 (tamano de la muestras)"
   ]
  },
  {
   "cell_type": "code",
   "execution_count": 3,
   "metadata": {
    "slideshow": {
     "slide_type": "subslide"
    }
   },
   "outputs": [
    {
     "data": {
      "text/plain": [
       "0.2380952380952378"
      ]
     },
     "execution_count": 3,
     "metadata": {},
     "output_type": "execute_result"
    }
   ],
   "source": [
    "# a)\n",
    "hypergeom.pmf(3,10,4,5)"
   ]
  },
  {
   "cell_type": "code",
   "execution_count": 4,
   "metadata": {
    "slideshow": {
     "slide_type": "subslide"
    }
   },
   "outputs": [
    {
     "data": {
      "text/plain": [
       "0.73809523809523769"
      ]
     },
     "execution_count": 4,
     "metadata": {},
     "output_type": "execute_result"
    }
   ],
   "source": [
    "#b\n",
    "hypergeom.cdf(2,10,4,5)"
   ]
  },
  {
   "cell_type": "code",
   "execution_count": 5,
   "metadata": {
    "slideshow": {
     "slide_type": "subslide"
    }
   },
   "outputs": [
    {
     "data": {
      "text/plain": [
       "0.97619047619047628"
      ]
     },
     "execution_count": 5,
     "metadata": {},
     "output_type": "execute_result"
    }
   ],
   "source": [
    "#c)\n",
    "1-hypergeom.cdf(0,10,4,5)"
   ]
  },
  {
   "cell_type": "code",
   "execution_count": 6,
   "metadata": {
    "collapsed": true,
    "slideshow": {
     "slide_type": "slide"
    }
   },
   "outputs": [],
   "source": [
    "#Generando una muestra de 1000 valores de una hypergeometrica con N=10, n=4 y k=5 \n",
    "a=hypergeom.rvs(10,4,5,size=1000)"
   ]
  },
  {
   "cell_type": "code",
   "execution_count": 7,
   "metadata": {
    "slideshow": {
     "slide_type": "slide"
    }
   },
   "outputs": [
    {
     "data": {
      "text/plain": [
       "array([ 0.029,  0.239,  0.466,  0.24 ,  0.026])"
      ]
     },
     "execution_count": 7,
     "metadata": {},
     "output_type": "execute_result"
    }
   ],
   "source": [
    "#Hallando las frecuencias relativas de la muestra generada\n",
    "unique_elements, counts_elements = np.unique(a, return_counts=True)\n",
    "prob_sim=counts_elements/float(1000)\n",
    "prob_sim"
   ]
  },
  {
   "cell_type": "code",
   "execution_count": 8,
   "metadata": {
    "slideshow": {
     "slide_type": "slide"
    }
   },
   "outputs": [
    {
     "data": {
      "text/plain": [
       "<matplotlib.legend.Legend at 0xb831828>"
      ]
     },
     "execution_count": 8,
     "metadata": {},
     "output_type": "execute_result"
    },
    {
     "data": {
      "image/png": "[encoded data removed]",
      "text/plain": [
       "<matplotlib.figure.Figure at 0xb6d7160>"
      ]
     },
     "metadata": {},
     "output_type": "display_data"
    }
   ],
   "source": [
    "#Plot para comparar las probabilidades exactas de una hypergeometrica con las probabilidades simuladas\n",
    "x=np.arange(0,5)\n",
    "fig, ax = plt.subplots(1, 1)\n",
    "ax.plot(x, hypergeom.pmf(x,10,4,5), 'bo', ms=5, label='hypergeom pmf')\n",
    "ax.vlines(x, 0, hypergeom.pmf(x, 10,4,5), colors='b', lw=3, alpha=0.5)\n",
    "ax.vlines(x, 0, prob_sim, colors='r', linestyles='-', lw=2,label='simulated pmf')\n",
    "ax.legend(loc='best', frameon=False)"
   ]
  },
  {
   "cell_type": "code",
   "execution_count": 9,
   "metadata": {
    "slideshow": {
     "slide_type": "slide"
    }
   },
   "outputs": [
    {
     "data": {
      "text/plain": [
       "1.9999999999999984"
      ]
     },
     "execution_count": 9,
     "metadata": {},
     "output_type": "execute_result"
    }
   ],
   "source": [
    "#Calculando la media de una hypergeometrica\n",
    "x=np.arange(0,5)\n",
    "mu=x*hypergeom.pmf(x,10,4,5)\n",
    "mu.sum()"
   ]
  },
  {
   "cell_type": "markdown",
   "metadata": {
    "slideshow": {
     "slide_type": "slide"
    }
   },
   "source": [
    "###  Distribucion Geometrica\n",
    "###  $$P[X=k]={(1-p)}^{k-1}p,$$\n",
    "#### para $k=1,2,3,......$"
   ]
  },
  {
   "cell_type": "markdown",
   "metadata": {
    "collapsed": true,
    "slideshow": {
     "slide_type": "slide"
    }
   },
   "source": [
    "Ejemplo 2: Distribucion Geometrica\n",
    "    \n",
    "Si las extracciones en el ejemplo anterior fueran con reemplazo\n",
    "\n",
    "a) Cual es la probabilidad de que el primer articulo danado salga en la tercera extraccion?\n",
    "\n",
    "b) Cual es la probabilidad de que el primer articulo danado salga a lo mas en  5 extracciones?\n",
    "\n",
    "c) Cual es la probabilidad de que el primer articulo danado salga despues de 4 extracciones?\n",
    "\n",
    "Solucion: Sea X: el numero de buenos extraidos hasta que salga el primer danado. X es una geometrica con p=.4"
   ]
  },
  {
   "cell_type": "code",
   "execution_count": 23,
   "metadata": {
    "slideshow": {
     "slide_type": "slide"
    }
   },
   "outputs": [
    {
     "name": "stdout",
     "output_type": "stream",
     "text": [
      "0.14400\n"
     ]
    }
   ],
   "source": [
    "#a\n",
    "p1=geom.pmf(3,.4)\n",
    "print \"%.5f\" %  p1"
   ]
  },
  {
   "cell_type": "code",
   "execution_count": 24,
   "metadata": {
    "slideshow": {
     "slide_type": "slide"
    }
   },
   "outputs": [
    {
     "data": {
      "text/plain": [
       "0.9222"
      ]
     },
     "execution_count": 24,
     "metadata": {},
     "output_type": "execute_result"
    }
   ],
   "source": [
    "#b\n",
    "p2=geom.cdf(5,.4)\n",
    "round(p2,4)"
   ]
  },
  {
   "cell_type": "code",
   "execution_count": 25,
   "metadata": {
    "slideshow": {
     "slide_type": "slide"
    }
   },
   "outputs": [
    {
     "name": "stdout",
     "output_type": "stream",
     "text": [
      "0.13\n"
     ]
    }
   ],
   "source": [
    "#c\n",
    "p3=1-geom.cdf(4,.4)\n",
    "print float(\"%.3f\" % p3) "
   ]
  },
  {
   "cell_type": "code",
   "execution_count": 13,
   "metadata": {
    "slideshow": {
     "slide_type": "slide"
    }
   },
   "outputs": [
    {
     "data": {
      "text/plain": [
       "array([ 0.406,  0.22 ,  0.16 ,  0.084,  0.055,  0.032,  0.016,  0.012,\n",
       "        0.003,  0.006,  0.002,  0.002,  0.001,  0.001])"
      ]
     },
     "execution_count": 13,
     "metadata": {},
     "output_type": "execute_result"
    }
   ],
   "source": [
    "#Generando una muestra de 1000 valores de una geometrica con p=.4 \n",
    "a=geom.rvs(.4,size=1000)\n",
    "#Hallando las frecuencias relativas de la muestra generada\n",
    "unique_elements, counts_elements = np.unique(a, return_counts=True)\n",
    "prob_sim=counts_elements/float(1000)\n",
    "x=np.arange(1,11)\n",
    "prob_sim"
   ]
  },
  {
   "cell_type": "code",
   "execution_count": 14,
   "metadata": {
    "slideshow": {
     "slide_type": "slide"
    }
   },
   "outputs": [
    {
     "data": {
      "text/plain": [
       "<matplotlib.legend.Legend at 0xbb035c0>"
      ]
     },
     "execution_count": 14,
     "metadata": {},
     "output_type": "execute_result"
    },
    {
     "data": {
      "image/png": "[encoded data removed]",
      "text/plain": [
       "<matplotlib.figure.Figure at 0xb340278>"
      ]
     },
     "metadata": {},
     "output_type": "display_data"
    }
   ],
   "source": [
    "#Comparacion de la probabilidad teorica con la frecuencia relativa de 1000 valores simulados del 1 al 10\n",
    "x=np.arange(1,11)\n",
    "fig, ax=plt.subplots(1,1)\n",
    "ax.plot(x, geom.pmf(x,.4), 'bo', ms=5, label='geom pmf')\n",
    "ax.vlines(x, 0, geom.pmf(x,4), colors='b',lw=3,alpha=0.5)\n",
    "ax.vlines(x, 0, prob_sim, colors='r', linestyles='-', lw=2,label='simulated pmf')\n",
    "ax.legend(loc='best', frameon=False)"
   ]
  },
  {
   "cell_type": "code",
   "execution_count": 15,
   "metadata": {
    "slideshow": {
     "slide_type": "slide"
    }
   },
   "outputs": [
    {
     "data": {
      "text/plain": [
       "2.4986898765589776"
      ]
     },
     "execution_count": 15,
     "metadata": {},
     "output_type": "execute_result"
    }
   ],
   "source": [
    "#valor esperado estimada de una geometrica (el valor exacto es 1/p=2.5)\n",
    "x=np.arange(1,20)\n",
    "mu=x*geom.pmf(x,.4)\n",
    "mu.sum()"
   ]
  },
  {
   "cell_type": "markdown",
   "metadata": {},
   "source": [
    "###  Distribucion Binomial Negativa\n",
    "###  $$P[X=k]={{k+r-1}\\choose k}{(1-p)}^{k-1}p,$$\n",
    "#### para $k=1,2,3,......$"
   ]
  },
  {
   "cell_type": "markdown",
   "metadata": {
    "collapsed": true,
    "slideshow": {
     "slide_type": "slide"
    }
   },
   "source": [
    "Ejemplo 3: Distribucion Binomial Negativa (tambien llamada Pascal)\n",
    "\n",
    "Bajo las mismas condiciones del ejemplo 2\n",
    "\n",
    "a) Cual es la probabilidad de que salgan dos articulos buenos antes de salir el tercer articulo danado?\n",
    "\n",
    "b) Cual es la probabilidad de que salgan a lo mas  3 buenos antes de que salga el tercer articulo danado?\n",
    "\n",
    "c) Cual es la probabilidad de que el tercer articulo danado salga despues de que salgan 5 buenos?\n",
    "\n",
    "Solucion: Sea X: el numero de buenos extraidos hasta que salga el tercer danado. X es una binomial negativa con r=3 y p=.4"
   ]
  },
  {
   "cell_type": "code",
   "execution_count": 16,
   "metadata": {
    "slideshow": {
     "slide_type": "slide"
    }
   },
   "outputs": [
    {
     "data": {
      "text/plain": [
       "0.13824000000000003"
      ]
     },
     "execution_count": 16,
     "metadata": {},
     "output_type": "execute_result"
    }
   ],
   "source": [
    "#a\n",
    "nbinom.pmf(2,3,.4)"
   ]
  },
  {
   "cell_type": "code",
   "execution_count": 17,
   "metadata": {
    "slideshow": {
     "slide_type": "slide"
    }
   },
   "outputs": [
    {
     "data": {
      "text/plain": [
       "0.45568000000000008"
      ]
     },
     "execution_count": 17,
     "metadata": {},
     "output_type": "execute_result"
    }
   ],
   "source": [
    "#b\n",
    "nbinom.cdf(3,3,.4)"
   ]
  },
  {
   "cell_type": "code",
   "execution_count": 18,
   "metadata": {
    "slideshow": {
     "slide_type": "slide"
    }
   },
   "outputs": [
    {
     "data": {
      "text/plain": [
       "0.3153945600000001"
      ]
     },
     "execution_count": 18,
     "metadata": {},
     "output_type": "execute_result"
    }
   ],
   "source": [
    "#c\n",
    "1-nbinom.cdf(5,3,.4)"
   ]
  },
  {
   "cell_type": "code",
   "execution_count": 19,
   "metadata": {
    "slideshow": {
     "slide_type": "slide"
    }
   },
   "outputs": [
    {
     "data": {
      "text/plain": [
       "array([ 0.062,  0.109,  0.144,  0.157,  0.113,  0.105,  0.089,  0.062,\n",
       "        0.057,  0.025,  0.021,  0.023,  0.009,  0.009,  0.004,  0.003,\n",
       "        0.002,  0.001,  0.001,  0.003,  0.001])"
      ]
     },
     "execution_count": 19,
     "metadata": {},
     "output_type": "execute_result"
    }
   ],
   "source": [
    "#Generando una muestra de 1000 valores de una binomial con p=.4 \n",
    "a=nbinom.rvs(3,.4,size=1000)\n",
    "#Hallando las frecuencias relativas de la muestra generada\n",
    "unique_elements, counts_elements = np.unique(a, return_counts=True)\n",
    "prob_sim=counts_elements/float(1000)\n",
    "prob_sim"
   ]
  },
  {
   "cell_type": "code",
   "execution_count": 20,
   "metadata": {
    "scrolled": false,
    "slideshow": {
     "slide_type": "slide"
    }
   },
   "outputs": [
    {
     "data": {
      "text/plain": [
       "<matplotlib.legend.Legend at 0xbda8748>"
      ]
     },
     "execution_count": 20,
     "metadata": {},
     "output_type": "execute_result"
    },
    {
     "data": {
      "image/png": "[encoded data removed]",
      "text/plain": [
       "<matplotlib.figure.Figure at 0xbb8cc50>"
      ]
     },
     "metadata": {},
     "output_type": "display_data"
    }
   ],
   "source": [
    "#Comparacion de la probabilidad teorica con la frecuencia relativa de 1000 valores simulados del 0 al 10\n",
    "x=np.arange(0,11)\n",
    "fig, ax=plt.subplots(1,1)\n",
    "ax.plot(x, nbinom.pmf(x,3,.4), 'bo', ms=5, label='nbinom pmf')\n",
    "ax.vlines(x,0,nbinom.pmf(x,3,.4), colors='b',lw=3,alpha=0.5)\n",
    "ax.vlines(x, 0, prob_sim, colors='r', linestyles='-', lw=2,label='simulated pmf')\n",
    "ax.legend(loc='best', frameon=False)"
   ]
  },
  {
   "cell_type": "code",
   "execution_count": 21,
   "metadata": {
    "slideshow": {
     "slide_type": "slide"
    }
   },
   "outputs": [
    {
     "data": {
      "text/plain": [
       "4.5"
      ]
     },
     "execution_count": 21,
     "metadata": {},
     "output_type": "execute_result"
    }
   ],
   "source": [
    "#valor esperado estimado de la Binomial Negativa con 3 danados y p=.4 (valor exacto es r*q/p=3*.6/.4=4.5)\n",
    "x=np.arange(0,100)\n",
    "mu=x*nbinom.pmf(x,3,.4)\n",
    "mu.sum()"
   ]
  }
 ],
 "metadata": {
  "celltoolbar": "Slideshow",
  "kernelspec": {
   "display_name": "Python 2",
   "language": "python",
   "name": "python2"
  },
  "language_info": {
   "codemirror_mode": {
    "name": "ipython",
    "version": 2
   },
   "file_extension": ".py",
   "mimetype": "text/x-python",
   "name": "python",
   "nbconvert_exporter": "python",
   "pygments_lexer": "ipython2",
   "version": "2.7.13"
  }
 },
 "nbformat": 4,
 "nbformat_minor": 2
}
