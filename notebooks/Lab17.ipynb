{
 "cells": [
  {
   "cell_type": "markdown",
   "metadata": {},
   "source": [
    "### ESMA 3016\n",
    "### Edgar Acuna\n",
    "### Lab17: Distribucion de la Media Muestral y el Teorema del Limte Central"
   ]
  },
  {
   "cell_type": "code",
   "execution_count": 2,
   "metadata": {},
   "outputs": [
    {
     "name": "stdout",
     "output_type": "stream",
     "text": [
      "\n"
     ]
    }
   ],
   "source": [
    "from scipy.stats  import norm\n",
    "import numpy as np\n",
    "import matplotlib.pyplot as plt\n",
    "from math import sqrt,factorial,pi\n",
    "%matplotlib inline"
   ]
  },
  {
   "cell_type": "code",
   "execution_count": 3,
   "metadata": {
    "collapsed": true,
    "scrolled": false
   },
   "outputs": [],
   "source": [
    "#Poblacion\n",
    "x=[3, 4, 6, 8, 10, 11, 12, 15, 20]"
   ]
  },
  {
   "cell_type": "markdown",
   "metadata": {},
   "source": [
    "Calculando la media $\\mu$ y la desviacion estandar $\\sigma$ poblacionales"
   ]
  },
  {
   "cell_type": "code",
   "execution_count": 5,
   "metadata": {},
   "outputs": [
    {
     "name": "stdout",
     "output_type": "stream",
     "text": [
      "media= 9.88888888889 Desviacion Estandar= 5.10869508114\n"
     ]
    }
   ],
   "source": [
    "print 'media=', np.mean(x), 'Desviacion Estandar=', np.std(x)"
   ]
  },
  {
   "cell_type": "code",
   "execution_count": 8,
   "metadata": {
    "collapsed": true
   },
   "outputs": [],
   "source": [
    "#Simulando 50 muestras de tamano 30 de dicha poblacion\n",
    "a=np.random.choice(x, 1500, replace=True)\n",
    "b=a.reshape(50,-1)"
   ]
  },
  {
   "cell_type": "code",
   "execution_count": 9,
   "metadata": {},
   "outputs": [
    {
     "name": "stdout",
     "output_type": "stream",
     "text": [
      "[  7.83333333   9.63333333   8.96666667  10.1         10.3         10.36666667\n",
      "   9.36666667  11.3          9.5          8.53333333  10.66666667   9.\n",
      "   9.4          9.36666667   9.          10.6          9.76666667   7.9\n",
      "  10.03333333   7.63333333   8.3         10.7          9.73333333\n",
      "  10.16666667  10.5         10.56666667   9.23333333  10.93333333  11.2\n",
      "   8.26666667  10.2         10.06666667   9.5          7.66666667\n",
      "   9.63333333   9.2          9.66666667   9.7          8.4          9.8\n",
      "   8.86666667  10.76666667  10.93333333  10.46666667   9.5          9.53333333\n",
      "  10.03333333   9.36666667  11.3          8.7       ]\n"
     ]
    }
   ],
   "source": [
    "#Calculando las medias de la 50 muestras\n",
    "medias1=b.mean(axis=1)\n",
    "print medias1"
   ]
  },
  {
   "cell_type": "code",
   "execution_count": 11,
   "metadata": {
    "scrolled": true
   },
   "outputs": [
    {
     "name": "stdout",
     "output_type": "stream",
     "text": [
      "media de las medias muestrals= 9.64333333333 desviacion estandar de la media muestral= 0.951624699743\n"
     ]
    }
   ],
   "source": [
    "#Calculando la media y estandar desviacion de las 50 medias\n",
    "mean2=np.mean(m[{000214A0-0000-0000-C000-000000000046}]\n",
    "Prop3=19,2\n",
    "[InternetShortcut]\n",
    "IDList=\n",
    "URL=http://localhost:8890/notebooks/Lab18.ipynb#\n",
    "edias1)\n",
    "sd2=np.std(medias1,ddof=1)\n",
    "print 'media de las medias muestrals=', mean2,'desviacion estandar de la media muestral=',sd2"
   ]
  },
  {
   "cell_type": "code",
   "execution_count": 12,
   "metadata": {
    "scrolled": true
   },
   "outputs": [
    {
     "data": {
      "text/plain": [
       "0.93271584511930827"
      ]
     },
     "execution_count": 12,
     "metadata": {},
     "output_type": "execute_result"
    }
   ],
   "source": [
    "#Calculando sigma/sqrt(n)\n",
    "np.std(x)/sqrt(30)"
   ]
  },
  {
   "cell_type": "markdown",
   "metadata": {},
   "source": [
    "Se puede notar que las medias de las medias muestrales es aprox igual a la media poblacional y que la desviacion estandar de las medias muestrales es aprox $\\frac{\\sigma}{\\sqrt{n}}$"
   ]
  },
  {
   "cell_type": "code",
   "execution_count": 17,
   "metadata": {},
   "outputs": [
    {
     "data": {
      "text/plain": [
       "<matplotlib.legend.Legend at 0xbd33400>"
      ]
     },
     "execution_count": 17,
     "metadata": {},
     "output_type": "execute_result"
    },
    {
     "data": {
      "image/png": "[encoded data removed]",
      "text/plain": [
       "<matplotlib.figure.Figure at 0xb7bc978>"
      ]
     },
     "metadata": {},
     "output_type": "display_data"
    }
   ],
   "source": [
    "x=np.arange(7.1,12.7,.01)\n",
    "fig, ax = plt.subplots(1, 1)\n",
    "ax.hist(medias1,bins=9,normed = True,alpha=.5)\n",
    "ax.plot(x, norm.pdf(x,loc=9.88,scale=.93), 'k-', lw=1, label='Densidad Gaussiana')\n",
    "ax.legend(loc='best', frameon=False)"
   ]
  },
  {
   "cell_type": "code",
   "execution_count": null,
   "metadata": {
    "collapsed": true
   },
   "outputs": [],
   "source": []
  }
 ],
 "metadata": {
  "kernelspec": {
   "display_name": "Python 2",
   "language": "python",
   "name": "python2"
  },
  "language_info": {
   "codemirror_mode": {
    "name": "ipython",
    "version": 2
   },
   "file_extension": ".py",
   "mimetype": "text/x-python",
   "name": "python",
   "nbconvert_exporter": "python",
   "pygments_lexer": "ipython2",
   "version": "2.7.13"
  }
 },
 "nbformat": 4,
 "nbformat_minor": 2
}
