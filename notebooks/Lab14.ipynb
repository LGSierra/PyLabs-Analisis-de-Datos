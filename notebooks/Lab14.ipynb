{
 "cells": [
  {
   "cell_type": "markdown",
   "metadata": {},
   "source": [
    "### ESMA 3016\n",
    "### Edgar Acuna\n",
    "### Lab14: Distribuciones ContinuasL Uniforme y Exponencial\n",
    "### I- Distribucion Uniforme y su aplicacion a simulacion."
   ]
  },
  {
   "cell_type": "markdown",
   "metadata": {},
   "source": [
    "$$f(x)=\\frac{1}{b-a},$$\n",
    "\n",
    "para $a<x<b$"
   ]
  },
  {
   "cell_type": "code",
   "execution_count": 116,
   "metadata": {
    "collapsed": true
   },
   "outputs": [],
   "source": [
    "from scipy.stats  import uniform,expon,binom\n",
    "from scipy.integrate import quad\n",
    "import numpy as np\n",
    "import matplotlib.pyplot as plt\n",
    "%matplotlib inline"
   ]
  },
  {
   "cell_type": "code",
   "execution_count": 117,
   "metadata": {},
   "outputs": [
    {
     "data": {
      "text/plain": [
       "1.0"
      ]
     },
     "execution_count": 117,
     "metadata": {},
     "output_type": "execute_result"
    }
   ],
   "source": [
    "#El valor de la funcion de densidad uniforme (0,1) en el punto .1\n",
    "uniform.pdf(.1) "
   ]
  },
  {
   "cell_type": "code",
   "execution_count": 118,
   "metadata": {},
   "outputs": [
    {
     "data": {
      "text/plain": [
       "0.10000000000000001"
      ]
     },
     "execution_count": 118,
     "metadata": {},
     "output_type": "execute_result"
    }
   ],
   "source": [
    "#La probabilidad acumulada de la Uniforme (0,1) hasta .1\n",
    "uniform.cdf(.1)"
   ]
  },
  {
   "cell_type": "code",
   "execution_count": 119,
   "metadata": {},
   "outputs": [
    {
     "data": {
      "text/plain": [
       "0.099999999999999978"
      ]
     },
     "execution_count": 119,
     "metadata": {},
     "output_type": "execute_result"
    }
   ],
   "source": [
    "#La probabilidad de una Uniforme entre .4 y .5 es\n",
    "uniform.cdf(.5)-uniform.cdf(.4)"
   ]
  },
  {
   "cell_type": "code",
   "execution_count": 120,
   "metadata": {},
   "outputs": [
    {
     "data": {
      "text/plain": [
       "(array([ 1.03013707,  1.01513507,  1.0251364 ,  0.98313082,  1.02913694,\n",
       "         1.00513374,  1.01513507,  0.98013042,  0.92012243,  0.99813281]),\n",
       " array([  2.26271624e-05,   1.00009321e-01,   1.99996015e-01,\n",
       "          2.99982709e-01,   3.99969403e-01,   4.99956097e-01,\n",
       "          5.99942791e-01,   6.99929485e-01,   7.99916179e-01,\n",
       "          8.99902873e-01,   9.99889567e-01]),\n",
       " <a list of 10 Patch objects>)"
      ]
     },
     "execution_count": 120,
     "metadata": {},
     "output_type": "execute_result"
    },
    {
     "data": {
      "image/png": "[encoded data removed]",
      "text/plain": [
       "<matplotlib.figure.Figure at 0xc6bc828>"
      ]
     },
     "metadata": {},
     "output_type": "display_data"
    }
   ],
   "source": [
    "#Simulando 10,000 uniformes (0,1) y haciendo su histograma\n",
    "plt.hist(uniform.rvs(0,1,10000),normed=True)"
   ]
  },
  {
   "cell_type": "code",
   "execution_count": 121,
   "metadata": {},
   "outputs": [
    {
     "data": {
      "text/plain": [
       "0.125"
      ]
     },
     "execution_count": 121,
     "metadata": {},
     "output_type": "execute_result"
    }
   ],
   "source": [
    "#Distribucion Uniforme en un intervalo (a,b)=(2,10)\n",
    "#Hay que usar los parametros loc=a y scale=b-a\n",
    "#Hallando la funcion de densidad de la uniforme U(2,10) en el punto x=2.5\n",
    "uniform.pdf(2.5,loc=2,scale=8)"
   ]
  },
  {
   "cell_type": "code",
   "execution_count": 122,
   "metadata": {},
   "outputs": [
    {
     "data": {
      "text/plain": [
       "0.5"
      ]
     },
     "execution_count": 122,
     "metadata": {},
     "output_type": "execute_result"
    }
   ],
   "source": [
    "#Hallando la probabilidad acumulada de la U(2,10) hasta el valor x=6. O sea P(X<6)\n",
    "uniform.cdf(6,loc=2,scale=8)"
   ]
  },
  {
   "cell_type": "code",
   "execution_count": 123,
   "metadata": {},
   "outputs": [
    {
     "data": {
      "text/plain": [
       "9.1999999999999993"
      ]
     },
     "execution_count": 123,
     "metadata": {},
     "output_type": "execute_result"
    }
   ],
   "source": [
    "#Hallando el percentil correspondiente a una probabilidad de .9\n",
    "uniform.ppf(.9,loc=2,scale=8)"
   ]
  },
  {
   "cell_type": "code",
   "execution_count": 124,
   "metadata": {
    "collapsed": true
   },
   "outputs": [],
   "source": [
    "#**********************************************************\n",
    "#Generando al azar n valores de una bernoulli con parametro p\n",
    "#*********************************************************\n",
    "def bernoulli(p,m):\n",
    "    x=[0]*m\n",
    "    for i in range(m):\n",
    "        if uniform.rvs(0,1,1)<p:\n",
    "            x[i]=1 \n",
    "    return x"
   ]
  },
  {
   "cell_type": "code",
   "execution_count": 125,
   "metadata": {},
   "outputs": [
    {
     "data": {
      "text/plain": [
       "[0, 1, 0, 1, 1, 0, 0, 1, 1, 0, 0, 0, 0, 1, 0, 1, 0, 1, 0, 0]"
      ]
     },
     "execution_count": 125,
     "metadata": {},
     "output_type": "execute_result"
    }
   ],
   "source": [
    "bernoulli(.3,20)"
   ]
  },
  {
   "cell_type": "code",
   "execution_count": 126,
   "metadata": {
    "collapsed": true
   },
   "outputs": [],
   "source": [
    "#Otra forma\n",
    "def bernoulli1(p,m):\n",
    "    b=[uniform.rvs(0,1,1)<p for _ in range(0,m)]\n",
    "    return [int(x) for x in b]"
   ]
  },
  {
   "cell_type": "code",
   "execution_count": 127,
   "metadata": {},
   "outputs": [
    {
     "data": {
      "text/plain": [
       "[0, 0, 0, 0, 1, 0, 0, 0, 0, 0, 1, 1, 0, 0, 0, 1, 1, 0, 0, 1]"
      ]
     },
     "execution_count": 127,
     "metadata": {},
     "output_type": "execute_result"
    }
   ],
   "source": [
    "bernoulli1(.3,20)"
   ]
  },
  {
   "cell_type": "code",
   "execution_count": 128,
   "metadata": {
    "collapsed": true
   },
   "outputs": [],
   "source": [
    "#************************************************************\n",
    "#Generando al azar m valores de una binomial con parametros n y p\n",
    "#************************************************************\n",
    "#La suma de n Bernoulli's da una binomial(n,p)\n",
    "def rbinomial(p,n,m):\n",
    "    x=[0]*m\n",
    "    for i in range(m): \n",
    "        y=0\n",
    "        for j in range(n):\n",
    "            y+=sum(bernoulli(p,1))\n",
    "        x[i]=y    \n",
    "    return x"
   ]
  },
  {
   "cell_type": "code",
   "execution_count": 129,
   "metadata": {},
   "outputs": [
    {
     "name": "stdout",
     "output_type": "stream",
     "text": [
      "--- 1.85300016403 seconds ---\n"
     ]
    },
    {
     "data": {
      "text/plain": [
       "[3, 3, 3, 2, 3, 6, 3, 2, 2, 3, 4, 2, 3, 3, 2, 3, 2, 1, 2, 4]"
      ]
     },
     "execution_count": 129,
     "metadata": {},
     "output_type": "execute_result"
    }
   ],
   "source": [
    "import time\n",
    "start_time = time.time()\n",
    "rbinomial(.5,6,10000)\n",
    "print(\"--- %s seconds ---\" % (time.time() - start_time))\n",
    "rbinomial(.5,6,20)"
   ]
  },
  {
   "cell_type": "code",
   "execution_count": 130,
   "metadata": {
    "collapsed": true
   },
   "outputs": [],
   "source": [
    "#Otra forma\n",
    "def rbinom1(p,n,m):\n",
    "    b=[bernoulli1(p,n) for _ in range(0,m)]\n",
    "    return np.sum(b,axis=1)"
   ]
  },
  {
   "cell_type": "code",
   "execution_count": 131,
   "metadata": {},
   "outputs": [
    {
     "name": "stdout",
     "output_type": "stream",
     "text": [
      "--- 1.78500008583 seconds ---\n"
     ]
    },
    {
     "data": {
      "text/plain": [
       "array([0, 2, 5, 4, 3, 5, 2, 4, 2, 4, 1, 2, 2, 4, 3, 4, 4, 4, 3, 3])"
      ]
     },
     "execution_count": 131,
     "metadata": {},
     "output_type": "execute_result"
    }
   ],
   "source": [
    "start_time = time.time()\n",
    "rbinom1(.5,6,10000)\n",
    "print(\"--- %s seconds ---\" % (time.time() - start_time))\n",
    "rbinom1(.5,6,20)"
   ]
  },
  {
   "cell_type": "code",
   "execution_count": 132,
   "metadata": {},
   "outputs": [
    {
     "name": "stdout",
     "output_type": "stream",
     "text": [
      "--- 0.000999927520752 seconds ---\n"
     ]
    },
    {
     "data": {
      "text/plain": [
       "array([1, 1, 1, 3, 2, 1, 3, 1, 4, 2, 2, 3, 3, 5, 1, 2, 1, 5, 3, 2])"
      ]
     },
     "execution_count": 132,
     "metadata": {},
     "output_type": "execute_result"
    }
   ],
   "source": [
    "start_time = time.time()\n",
    "binom.rvs(6,.5,size=10000)\n",
    "print(\"--- %s seconds ---\" % (time.time() - start_time))\n",
    "binom.rvs(6,.5,size=20)"
   ]
  },
  {
   "cell_type": "markdown",
   "metadata": {},
   "source": [
    "### Distribucion exponencial\n",
    "$$f(x)=\\frac{1}{\\theta}e^{-\\frac{x}{\\theta}},$$\n",
    "\n",
    "para $x>0$, tambien $\\theta>0$"
   ]
  },
  {
   "cell_type": "code",
   "execution_count": 133,
   "metadata": {
    "collapsed": true
   },
   "outputs": [],
   "source": [
    "#***************************************************************************\n",
    "#simulando una muestra de 200 tiempos de espera en un banco\n",
    "#se esta considerando que el tiempo de espera promedio es 10 minutos\n",
    "#los tiempos estan dados en minutos\n",
    "#******************************************************************************* \n",
    "tiempos=expon.rvs(scale=10,size=200)"
   ]
  },
  {
   "cell_type": "code",
   "execution_count": 134,
   "metadata": {
    "scrolled": false
   },
   "outputs": [
    {
     "data": {
      "text/plain": [
       "<matplotlib.legend.Legend at 0xca80208>"
      ]
     },
     "execution_count": 134,
     "metadata": {},
     "output_type": "execute_result"
    },
    {
     "data": {
      "image/png": "[encoded data removed]",
      "text/plain": [
       "<matplotlib.figure.Figure at 0xbfd1668>"
      ]
     },
     "metadata": {},
     "output_type": "display_data"
    }
   ],
   "source": [
    "#Generando un histograma de los datos pero de tal manera que el area total sea 1\n",
    "x=np.arange(0,100,.5)\n",
    "#Haciendo una comparacion grafica\n",
    "fig, ax = plt.subplots(1, 1)\n",
    "ax.hist(tiempos, normed = True,alpha=.7)\n",
    "ax.plot(x, expon.pdf(x,scale=10), 'k-', lw=1, label='densidad exponencial')\n",
    "ax.legend(loc='best', frameon=False)"
   ]
  },
  {
   "cell_type": "markdown",
   "metadata": {},
   "source": [
    "Cual es la probabilidad de que se tenga que esperar mas de 15 minutos para ser atendido?\n",
    "Area bajo la curva mas alla de 15"
   ]
  },
  {
   "cell_type": "markdown",
   "metadata": {},
   "source": [
    "$$P(x>15)=\\int_{15}^{\\infty}\\frac{1}{10}e^{-\\frac{x}{10}}dx$$"
   ]
  },
  {
   "cell_type": "code",
   "execution_count": 135,
   "metadata": {},
   "outputs": [
    {
     "data": {
      "text/plain": [
       "(0.22313016014842987, 2.2730397098404664e-10)"
      ]
     },
     "execution_count": 135,
     "metadata": {},
     "output_type": "execute_result"
    }
   ],
   "source": [
    "#Calculando aproximadamente la integral\n",
    "def integrando(x):\n",
    "    return np.exp(-x/10)/10\n",
    "quad(integrando,15,np.Inf)"
   ]
  },
  {
   "cell_type": "markdown",
   "metadata": {},
   "source": [
    "#### El primer valor es el resultado de la integral y el segundo es el error del resultado"
   ]
  },
  {
   "cell_type": "code",
   "execution_count": 136,
   "metadata": {},
   "outputs": [
    {
     "data": {
      "text/plain": [
       "0.22313016014842979"
      ]
     },
     "execution_count": 136,
     "metadata": {},
     "output_type": "execute_result"
    }
   ],
   "source": [
    "#Haciendolo por complemento=1-area hasta 15 y usando la densidad exponencial\n",
    "1-expon.cdf(15,scale=10)"
   ]
  },
  {
   "cell_type": "code",
   "execution_count": 137,
   "metadata": {},
   "outputs": [
    {
     "data": {
      "text/plain": [
       "0.23"
      ]
     },
     "execution_count": 137,
     "metadata": {},
     "output_type": "execute_result"
    }
   ],
   "source": [
    "#Estimando la probabilidad\n",
    "probest=len(tiempos[tiempos>15])/float(200)\n",
    "probest"
   ]
  },
  {
   "cell_type": "code",
   "execution_count": null,
   "metadata": {
    "collapsed": true
   },
   "outputs": [],
   "source": []
  }
 ],
 "metadata": {
  "kernelspec": {
   "display_name": "Python 2",
   "language": "python",
   "name": "python2"
  },
  "language_info": {
   "codemirror_mode": {
    "name": "ipython",
    "version": 2
   },
   "file_extension": ".py",
   "mimetype": "text/x-python",
   "name": "python",
   "nbconvert_exporter": "python",
   "pygments_lexer": "ipython2",
   "version": "2.7.13"
  }
 },
 "nbformat": 4,
 "nbformat_minor": 2
}
